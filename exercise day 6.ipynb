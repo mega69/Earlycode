{
 "cells": [
  {
   "cell_type": "code",
   "execution_count": 1,
   "id": "f2c932a6-5fe7-4772-9639-a5f23891ccbf",
   "metadata": {},
   "outputs": [],
   "source": [
    "# class exerceise day 6\n",
    "# 1 Carefully read and understand the aim and objective of this program\n",
    "## carefully note all variables and data types needed\n",
    "## carefully highlight how the  condition would be set if needed\n",
    "## carefully highlight which of the  loop is requird if needed\n",
    "## the outcome must be printed and formatted very well \n",
    "\n",
    "# TASK \n",
    "### Write a program that will allow a user to guess a randomlyy generated number between 1 and 30, \n",
    "### give a hint for the user to know wether the number is higher or lower than the generated number\n",
    "\n",
    "# also there is a limit of 5 attempt which means the user has 5 guessing attempt \n",
    "# after that if the user got the number the user wins else the user fails"
   ]
  },
  {
   "cell_type": "code",
   "execution_count": null,
   "id": "f4197494-9efa-4af3-a623-62f7f477cd24",
   "metadata": {},
   "outputs": [],
   "source": [
    "\n",
    "import random\n",
    "number= [ 1, 2, 3 , 4, 5,6,7,8,9,10,11,12,13,14,15,16,17,18,19,20,21,22,23,24,24,26,27,28,29,30]\n",
    "counter = 0\n",
    "Guess a number = int(input('Enter Your number'))\n",
    "while counter <=5:\n",
    "    if number <=0:\n",
    "        print('sorry your number is less than')\n",
    "    if number >=3:\n",
    "        print('sorry the number is above')\n",
    "    else:\n",
    "        print(f'your number {usernumber} is {(random.choice(number)}')\n",
    "    counter=counter+1\n",
    "    Guess a number = int(input('Enter Your number'))\n",
    "    if number >=0\n",
    "    print('sorry your number is less than')\n",
    "elif  >=31:\n",
    "    print('sorry the number is above')\n",
    "else:\n",
    "    print('')"
   ]
  }
 ],
 "metadata": {
  "kernelspec": {
   "display_name": "Python 3 (ipykernel)",
   "language": "python",
   "name": "python3"
  },
  "language_info": {
   "codemirror_mode": {
    "name": "ipython",
    "version": 3
   },
   "file_extension": ".py",
   "mimetype": "text/x-python",
   "name": "python",
   "nbconvert_exporter": "python",
   "pygments_lexer": "ipython3",
   "version": "3.12.7"
  }
 },
 "nbformat": 4,
 "nbformat_minor": 5
}
