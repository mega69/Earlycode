{
 "cells": [
  {
   "cell_type": "code",
   "execution_count": 1,
   "id": "077d3c14-e81d-4d89-a5c1-e452fc45f67f",
   "metadata": {},
   "outputs": [
    {
     "data": {
      "text/plain": [
       "4"
      ]
     },
     "execution_count": 1,
     "metadata": {},
     "output_type": "execute_result"
    }
   ],
   "source": [
    "#ASSIGNMENT\n",
    "1\n",
    "# Bus Ride\n",
    "# A group hires a bus for a tour. calculate the cost per person\n",
    "\n",
    "2\n",
    "#Savings \n",
    "# A student saves money weekly. calculate total savings after a number of weeks, including a bonus \n",
    "\n",
    "3\n",
    "#Boxers and leftover\n",
    "# A warehouse is packing products intoo boxes.find out how many full boxes can be packed and how many items will be left.\n",
    "\n",
    "4\n",
    "# Electricty bill\n",
    "# n Electricity company charges base fee plus a per-unit rate.calculaate the toal bill\n",
    "\n"
   ]
  },
  {
   "cell_type": "code",
   "execution_count": 25,
   "id": "9897816d-8193-4e2e-8b2b-4ccd3187364b",
   "metadata": {},
   "outputs": [
    {
     "name": "stdin",
     "output_type": "stream",
     "text": [
      "Enter price of bus ride. 4000\n",
      "Enter the number of people on the bus. 45\n"
     ]
    },
    {
     "name": "stdout",
     "output_type": "stream",
     "text": [
      " the cost per person is : 88.88888888888889\n"
     ]
    }
   ],
   "source": [
    "1\n",
    "# Bus Ride\n",
    "# A group hires a bus for a tour. calculate the cost per person\n",
    "\n",
    "price_of_bus_ride = float(input('Enter price of bus ride.'))\n",
    "no_of_people_on_the_bus = int(input('Enter the number of people on the bus.'))\n",
    "\n",
    "Total_cost_of_bus_ride= price_of_bus_ride / no_of_people_on_the_bus\n",
    "\n",
    "print(f' the cost per person is : {Total_cost_of_bus_ride}')"
   ]
  },
  {
   "cell_type": "code",
   "execution_count": 26,
   "id": "d8307633-1627-49d7-8281-3fa70c9cd01d",
   "metadata": {},
   "outputs": [
    {
     "name": "stdin",
     "output_type": "stream",
     "text": [
      "Enter the amount saved each week. 5000\n",
      "Enter the number of weeks. 45\n",
      "Enter the bonus amount: 300\n"
     ]
    },
    {
     "name": "stdout",
     "output_type": "stream",
     "text": [
      "total savings is : 225300.0\n"
     ]
    }
   ],
   "source": [
    "2\n",
    "#Savings \n",
    "# A student saves money weekly. calculate total savings after a number of weeks, including a bonus\n",
    "\n",
    "weekly_savings= float(input('Enter the amount saved each week.'))\n",
    "number_of_weeks=int(input('Enter the number of weeks.'))\n",
    "Bonus=float(input('Enter the bonus amount:'))\n",
    "Total_savings = (weekly_savings * number_of_weeks) +Bonus\n",
    "\n",
    "print(f'total savings is : {Total_savings}')"
   ]
  },
  {
   "cell_type": "code",
   "execution_count": 27,
   "id": "654d6c3c-1527-4e01-ab94-c397a854626e",
   "metadata": {},
   "outputs": [
    {
     "name": "stdin",
     "output_type": "stream",
     "text": [
      "Enter the total number of products. 56\n",
      "Enter the total number of full boxes 59\n",
      "Enter total number of products per full boxes. 50\n"
     ]
    },
    {
     "name": "stdout",
     "output_type": "stream",
     "text": [
      "Total number of boxes that can be packed is 1 boxes and total number of items left will be 6\n"
     ]
    }
   ],
   "source": [
    "3\n",
    "#Boxers and leftover\n",
    "# A warehouse is packing products intoo boxes.find out how many full boxes can be packed and how many items will be left.\n",
    "\n",
    "number_of_products=int(input('Enter the total number of products.'))\n",
    "number_of_boxes=int(input('Enter the total number of full boxes'))\n",
    "number_of_products_per_full_boxes=int(input('Enter total number of products per full boxes.'))\n",
    "number_of_boxes_packed=number_of_products // number_of_products_per_full_boxes\n",
    "number_of_products_left=number_of_products % number_of_products_per_full_boxes\n",
    "print(f'Total number of boxes that can be packed is {number_of_boxes_packed} boxes and total number of items left will be {number_of_products_left}')"
   ]
  },
  {
   "cell_type": "code",
   "execution_count": 28,
   "id": "1645ffee-03f7-4639-bf49-bfc0bef28272",
   "metadata": {},
   "outputs": [
    {
     "name": "stdin",
     "output_type": "stream",
     "text": [
      "Enter base fee. 600\n",
      "Enter unit per rate 700\n",
      "Enter the number of unit used 800\n"
     ]
    },
    {
     "name": "stdout",
     "output_type": "stream",
     "text": [
      " the total bill for the Electricity Company is 560600.0\n"
     ]
    }
   ],
   "source": [
    "##### 4\n",
    "# Electricty bill\n",
    "# an Electricity company charges base fee plus a per-unit rate.calculaate the total bill\n",
    "\n",
    "base_fee =float(input('Enter base fee.'))\n",
    "rate_per_unit=float(input('Enter unit per rate'))\n",
    "unit_used = float(input('Enter the number of unit used'))\n",
    "total_bill= (base_fee + (rate_per_unit*unit_used))\n",
    "print(f' the total bill for the Electricity Company is {total_bill}') "
   ]
  },
  {
   "cell_type": "code",
   "execution_count": null,
   "id": "133f2d24-2a6a-4687-b540-c6007d780934",
   "metadata": {},
   "outputs": [],
   "source": []
  }
 ],
 "metadata": {
  "kernelspec": {
   "display_name": "Python 3 (ipykernel)",
   "language": "python",
   "name": "python3"
  },
  "language_info": {
   "codemirror_mode": {
    "name": "ipython",
    "version": 3
   },
   "file_extension": ".py",
   "mimetype": "text/x-python",
   "name": "python",
   "nbconvert_exporter": "python",
   "pygments_lexer": "ipython3",
   "version": "3.12.7"
  }
 },
 "nbformat": 4,
 "nbformat_minor": 5
}
