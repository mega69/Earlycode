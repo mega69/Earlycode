{
 "cells": [
  {
   "cell_type": "code",
   "execution_count": 1,
   "id": "2152a1e8-a8ba-4664-810c-e74139a4789b",
   "metadata": {},
   "outputs": [],
   "source": [
    "# Exercise\n",
    "# Categorizing internet speed\n",
    "# an internent provider offers varios speed plan based on these conditions\n",
    "#plan A: speed>= 100 Mbps and cost <=5000\n",
    "# plan B: speed >= 50 Mbps and cost <= 4500\n",
    "# Plan C: Speed>= 25 Mbps snd cost  <= 3500\n",
    "# Plan D: Speed >= Mbps and cost <= 2500\n",
    "# Plan E: Speed < 10 Mbps"
   ]
  },
  {
   "cell_type": "code",
   "execution_count": 2,
   "id": "5c479c14-c02e-4863-9c1a-817e07b83742",
   "metadata": {},
   "outputs": [
    {
     "name": "stdin",
     "output_type": "stream",
     "text": [
      "Enter Speed in Mbps 99\n",
      "Enter cost at present usage 4500\n"
     ]
    },
    {
     "name": "stdout",
     "output_type": "stream",
     "text": [
      "your internet is Plan B and the fee is 4500\n"
     ]
    }
   ],
   "source": [
    "## Class Exercise \n",
    "\n",
    "Internet_plans = float(input('Enter Speed in Mbps'))\n",
    "Internent_cost= int(input('Enter cost at present usage'))\n",
    "if Internet_plans >= 100:\n",
    "    print('your are internet is Plan A and the fee is 5000')\n",
    "elif Internet_plans >= 50 and Internet_plans <=99:\n",
    "     print('your internet is Plan B and the fee is 4500')\n",
    "elif Internet_plans >= 25 and Internet_plans <=49:\n",
    "     print('your internet is Plan C and the fee is 3500')\n",
    "elif Internet_plans >= 10.1 and Internet_plans <=24:\n",
    "     print('your internet is Plan D and the fee is 2500')\n",
    "elif Internet_plans <10:\n",
    "     print('congratulations your internet is Free')"
   ]
  },
  {
   "cell_type": "code",
   "execution_count": null,
   "id": "17882af6-83da-47f9-84e9-e384a14bb90c",
   "metadata": {},
   "outputs": [],
   "source": [
    "Internet_plans = float(input('Enter Speed in Mbps'))\n",
    "Internent_cost= int(input('Enter cost at present usage'))\n",
    "if Internet_plans >= 100 and Internent_cost <=5000:\n",
    "    print('your internet is Plan A and the fee is 5000')\n",
    "elif Internet_plans >= 50 and Internent_cost <=4500:\n",
    "     print('your internet is Plan B and the fee is 4500')\n",
    "elif Internet_plans >= 25 and Internent_cost <=3500:\n",
    "     print('your internet is Plan C and the fee is 3500')\n",
    "elif Internet_plans >= 10.1 and Internent_cost <=2500:\n",
    "     print('your internet is Plan D and the fee is 2500')\n",
    "elif Internet_plans <10:\n",
    "     print('congratulations your internet is Free')\n",
    "else:\n",
    "    print('try again later')"
   ]
  }
 ],
 "metadata": {
  "kernelspec": {
   "display_name": "Python 3 (ipykernel)",
   "language": "python",
   "name": "python3"
  },
  "language_info": {
   "codemirror_mode": {
    "name": "ipython",
    "version": 3
   },
   "file_extension": ".py",
   "mimetype": "text/x-python",
   "name": "python",
   "nbconvert_exporter": "python",
   "pygments_lexer": "ipython3",
   "version": "3.12.7"
  }
 },
 "nbformat": 4,
 "nbformat_minor": 5
}
