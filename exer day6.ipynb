{
 "cells": [
  {
   "cell_type": "code",
   "execution_count": 17,
   "id": "3bea0b5a-33b5-4d8f-a19c-db3c6d461f69",
   "metadata": {},
   "outputs": [],
   "source": [
    "# class exerceise day 6\n",
    "# 1 Carefully read and understand the aim and objective of this program\n",
    "## carefully note all variables and data types needed\n",
    "## carefully highlight how the  condition would be set if needed\n",
    "## carefully highlight which of the  loop is requird if needed\n",
    "## the outcome must be printed and formatted very well \n",
    "\n",
    "# TASK \n",
    "### Write a program that will allow a user to guess a randomlyy generated number between 1 and 30, \n",
    "### give a hint for the user to know wether the number is higher or lower than the generated number\n",
    "\n",
    "# also there is a limit of 5 attempt which means the user has 5 guessing attempt \n",
    "# after that if the user got the number the user wins else the user fails"
   ]
  },
  {
   "cell_type": "code",
   "execution_count": 16,
   "id": "3d5c4ccf-5b5d-4956-ba6a-69e30277be75",
   "metadata": {},
   "outputs": [
    {
     "name": "stdin",
     "output_type": "stream",
     "text": [
      "Enter your guess(1-30) 20\n"
     ]
    },
    {
     "name": "stdout",
     "output_type": "stream",
     "text": [
      "Hey Your guess is high\n"
     ]
    },
    {
     "name": "stdin",
     "output_type": "stream",
     "text": [
      "Enter your guess(1-30) 13\n"
     ]
    },
    {
     "name": "stdout",
     "output_type": "stream",
     "text": [
      "congratulations, your guess is correct\n"
     ]
    }
   ],
   "source": [
    "\n",
    "import random\n",
    "random_number=random.randint(1,30)\n",
    "limit = 5\n",
    "guess_count=0\n",
    "while guess_count < limit:\n",
    "    user_guess= int(input('Enter your guess(1-30)'))\n",
    "    if user_guess>random_number:\n",
    "        print('Hey Your guess is high')\n",
    "    elif user_guess< random_number:\n",
    "        print('Hey your guess is low')\n",
    "    elif user_guess == random_number:\n",
    "        print('congratulations, your guess is correct')\n",
    "        break\n",
    "    guess_count=guess_count +1\n",
    "else:\n",
    "    print('sorry out of limit')\n",
    "        "
   ]
  },
  {
   "cell_type": "code",
   "execution_count": null,
   "id": "dcfd72fd-490b-49db-ba9a-254f3c488e8f",
   "metadata": {},
   "outputs": [],
   "source": []
  }
 ],
 "metadata": {
  "kernelspec": {
   "display_name": "Python 3 (ipykernel)",
   "language": "python",
   "name": "python3"
  },
  "language_info": {
   "codemirror_mode": {
    "name": "ipython",
    "version": 3
   },
   "file_extension": ".py",
   "mimetype": "text/x-python",
   "name": "python",
   "nbconvert_exporter": "python",
   "pygments_lexer": "ipython3",
   "version": "3.12.7"
  }
 },
 "nbformat": 4,
 "nbformat_minor": 5
}
