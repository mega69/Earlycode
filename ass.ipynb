{
 "cells": [
  {
   "cell_type": "code",
   "execution_count": null,
   "id": "7f91e400-3b96-40f8-a997-16e75277f829",
   "metadata": {},
   "outputs": [],
   "source": [
    "#Carefully read and understand the aim and object of this prograam \n",
    "#carefully note all variables and data types needed\n",
    "#carefully highlight how the condition would be set if needed\n",
    "#carefully highlighted which of the loops is required, if needed \n",
    "#rthe outcme must be printed and formatted very well \n",
    "\n",
    "# TASK\n",
    "# you aim to roll a dice between two users 10 times, note each  user's dice has 12 sides, for each round, any user that wins has 5 points, \n",
    "# and if it is a draw which user has 1 point , after which the overall winner"
   ]
  },
  {
   "cell_type": "code",
   "execution_count": 61,
   "id": "12bc8982-2920-424d-9474-b93eee7d3d11",
   "metadata": {},
   "outputs": [
    {
     "name": "stdin",
     "output_type": "stream",
     "text": [
      "Enter your name e\n"
     ]
    },
    {
     "name": "stdout",
     "output_type": "stream",
     "text": [
      "e you're are user1\n"
     ]
    },
    {
     "name": "stdin",
     "output_type": "stream",
     "text": [
      "Enter your name e\n"
     ]
    },
    {
     "name": "stdout",
     "output_type": "stream",
     "text": [
      "e you're are user2\n",
      "11\n",
      "5\n"
     ]
    },
    {
     "ename": "TypeError",
     "evalue": "'>' not supported between instances of 'NoneType' and 'NoneType'",
     "output_type": "error",
     "traceback": [
      "\u001b[1;31m---------------------------------------------------------------------------\u001b[0m",
      "\u001b[1;31mTypeError\u001b[0m                                 Traceback (most recent call last)",
      "Cell \u001b[1;32mIn[61], line 18\u001b[0m\n\u001b[0;32m     15\u001b[0m user2_score\u001b[38;5;241m=\u001b[39m\u001b[38;5;241m0\u001b[39m\n\u001b[0;32m     16\u001b[0m \u001b[38;5;28;01mwhile\u001b[39;00m round_count \u001b[38;5;241m<\u001b[39m limit:\n\u001b[1;32m---> 18\u001b[0m     \u001b[38;5;28;01mif\u001b[39;00m  user1 \u001b[38;5;241m>\u001b[39m user2:\n\u001b[0;32m     19\u001b[0m         user1_score \u001b[38;5;241m=\u001b[39m user1_score\u001b[38;5;241m+\u001b[39m\u001b[38;5;241m5\u001b[39m\n\u001b[0;32m     20\u001b[0m         \u001b[38;5;28mprint\u001b[39m(\u001b[38;5;124m'\u001b[39m\u001b[38;5;124mUser1 wins this rounds\u001b[39m\u001b[38;5;124m'\u001b[39m)\n",
      "\u001b[1;31mTypeError\u001b[0m: '>' not supported between instances of 'NoneType' and 'NoneType'"
     ]
    }
   ],
   "source": [
    "import stat \n",
    "name1 = input('Enter your name')\n",
    "print(f\"{name1} you're are user1\")\n",
    "name2 = input('Enter your name')\n",
    "print(f\"{name2} you're are user2\")\n",
    "\n",
    "round_number=1\n",
    "\n",
    "user1 = print(random.randint(1,12))\n",
    "user2 = print(random.randint(1,12))\n",
    "limit=2\n",
    "round_number=1\n",
    "round_count=1\n",
    "user1_score=0\n",
    "user2_score=0\n",
    "while round_count < limit:\n",
    "    \n",
    "    if  user1 > user2:\n",
    "        user1_score = user1_score+5\n",
    "        print('User1 wins this rounds')\n",
    "    elif user2>user1:\n",
    "         user2_score = user2_score + 5\n",
    "         print('User2 wins this rounds')\n",
    "    elif user1_score == user1_score+1:\n",
    "         user2_score = user2_score+1\n",
    "         print('its a tie both gets one 1 point')\n",
    "    round_count=round_count +1\n",
    "    round_number=round_number+1\n",
    "    \n",
    "    user1 = print(random.randint(1,12))\n",
    "    user2 = print(random.randint(1,12))\n",
    "    \n",
    "else:\n",
    "    print('final score results')\n",
    "    print(f\"User 1 total score is {user1_score}\")\n",
    "    print(f\"User 2 total score is {user2_score}\")\n",
    "if user1_score>user2_score:\n",
    "    print (f\" congratulations {name1} is overall winner\")\n",
    "elif user2_score>user1_score:\n",
    "    print (f\" congratulations {name1} is overall winner\")\n",
    "    \n",
    "    \n",
    "else:\n",
    "    print('its a tie')"
   ]
  },
  {
   "cell_type": "code",
   "execution_count": 49,
   "id": "d26664e1-878b-4533-8655-1d8d52b0c5c7",
   "metadata": {},
   "outputs": [],
   "source": [
    "#"
   ]
  },
  {
   "cell_type": "code",
   "execution_count": null,
   "id": "7e9e30c8-26b0-435b-a80f-69db93c1beed",
   "metadata": {},
   "outputs": [],
   "source": []
  },
  {
   "cell_type": "code",
   "execution_count": null,
   "id": "b1705994-b177-441d-adf0-dd51141abf36",
   "metadata": {},
   "outputs": [],
   "source": []
  }
 ],
 "metadata": {
  "kernelspec": {
   "display_name": "Python 3 (ipykernel)",
   "language": "python",
   "name": "python3"
  },
  "language_info": {
   "codemirror_mode": {
    "name": "ipython",
    "version": 3
   },
   "file_extension": ".py",
   "mimetype": "text/x-python",
   "name": "python",
   "nbconvert_exporter": "python",
   "pygments_lexer": "ipython3",
   "version": "3.12.7"
  }
 },
 "nbformat": 4,
 "nbformat_minor": 5
}
