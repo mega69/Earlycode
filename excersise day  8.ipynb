{
 "cells": [
  {
   "cell_type": "code",
   "execution_count": 1,
   "id": "8d11572d-b4a8-4ef4-8676-159cab0c6453",
   "metadata": {},
   "outputs": [],
   "source": [
    "#exercise function day 8\n",
    "\n",
    "# A loan approval sysytem evaluates application based on  region and credit score.\n",
    "# if the region is east and the credit score is 140 , auto-approve. if score is between 100 and 130 from the south, mack as \"pending.\" \n",
    "# for all others mark as \"review.\" write the condition logic\n"
   ]
  },
  {
   "cell_type": "code",
   "execution_count": 9,
   "id": "928db60e-f92f-41d9-ba0b-8b37a4c87fff",
   "metadata": {},
   "outputs": [
    {
     "name": "stdin",
     "output_type": "stream",
     "text": [
      "Enter Region obo\n",
      "Enter credit score 699\n"
     ]
    },
    {
     "name": "stdout",
     "output_type": "stream",
     "text": [
      "Application under review\n"
     ]
    }
   ],
   "source": [
    "def loan_approval():\n",
    "    region=input('Enter Region').lower()\n",
    "    credit_score=int(input('Enter credit score'))\n",
    "    if region == 'east' and credit_score >140:\n",
    "        print('Application Auto Approved')\n",
    "    elif (credit_score >=100 and credit_score <=130) and region == 'south':\n",
    "        print('Application Pending')\n",
    "    else:\n",
    "        print('Application under review')\n",
    "\n",
    "loan_approval()"
   ]
  },
  {
   "cell_type": "code",
   "execution_count": 13,
   "id": "aca4d2f7-99a7-4e64-9af7-f5016c1442c4",
   "metadata": {},
   "outputs": [],
   "source": [
    "#A TRAFFICK SYSTEM DETERMINES PENALTIES.\n",
    "#IF SPEED>100 AND NO SEATBELT, FINE=3000. \n",
    "#IF SPEED > 80 AND HAS SEATBELT,FINE=100\n",
    "#IF UNDER 80 BUT RAN A RED LIGHT, FINE =150. OTHER WISE NO FINE"
   ]
  },
  {
   "cell_type": "code",
   "execution_count": 20,
   "id": "ffccecbd-979f-40bb-9e7a-c4ad1fa67dcd",
   "metadata": {},
   "outputs": [
    {
     "name": "stdin",
     "output_type": "stream",
     "text": [
      "Enter Driving speed 200\n",
      "Did you have seat bet on? yes/no yes\n",
      "Did you beat the red light? yes/no? no\n"
     ]
    },
    {
     "name": "stdout",
     "output_type": "stream",
     "text": [
      "your fine is 100\n"
     ]
    }
   ],
   "source": [
    "def a_traffic_system():\n",
    "    speed=int(input('Enter Driving speed'))\n",
    "    seatbelt=input('Did you have seat bet on? yes/no').lower()\n",
    "    redlight=input('Did you beat the red light? yes/no?').lower()\n",
    "    if speed>100 and seatbelt == 'no':\n",
    "        print('fine is 300')\n",
    "    elif speed> 80 and seatbelt =='yes' :\n",
    "        print('your fine is 100')\n",
    "    elif speed < 80 and redlight=='yes':\n",
    "        print('your fine is 150')\n",
    "    else:\n",
    "        print('No Fine')\n",
    "a_traffic_system()"
   ]
  },
  {
   "cell_type": "code",
   "execution_count": 21,
   "id": "f3439cfd-625f-4cbf-9f85-e132ae487da4",
   "metadata": {},
   "outputs": [],
   "source": [
    "# an online learning platform checks if a user has paid and completed at least 3 modules,\n",
    "# unlock final quiz. if they've paid but completed < 3 modules, remind to continue. if unpaidd. deny access"
   ]
  },
  {
   "cell_type": "code",
   "execution_count": 31,
   "id": "139ce864-d314-431d-9ef7-644c2c83d16c",
   "metadata": {},
   "outputs": [
    {
     "name": "stdin",
     "output_type": "stream",
     "text": [
      "have you payed your fees? yes/no no\n",
      " how many modules have you completed? 3\n"
     ]
    },
    {
     "name": "stdout",
     "output_type": "stream",
     "text": [
      "Access denied\n"
     ]
    }
   ],
   "source": [
    "def payment_verification_platform():\n",
    "    \n",
    "    fees= input('have you payed your fees? yes/no').lower()\n",
    "    modules= int(input(' how many modules have you completed?'))\n",
    "    if fees == 'yes' and modules >3:\n",
    "        print ('Congratulations you have unlocked Final Quiz') \n",
    "    elif fees =='yes' and modules<3:\n",
    "        print(' Continue your modules ')\n",
    "    else:\n",
    "        print('Access denied')\n",
    "\n",
    "payment_verification_platform()   "
   ]
  },
  {
   "cell_type": "code",
   "execution_count": null,
   "id": "6b19520c-2d3e-49c1-9c77-209c535d4870",
   "metadata": {},
   "outputs": [],
   "source": []
  }
 ],
 "metadata": {
  "kernelspec": {
   "display_name": "Python 3 (ipykernel)",
   "language": "python",
   "name": "python3"
  },
  "language_info": {
   "codemirror_mode": {
    "name": "ipython",
    "version": 3
   },
   "file_extension": ".py",
   "mimetype": "text/x-python",
   "name": "python",
   "nbconvert_exporter": "python",
   "pygments_lexer": "ipython3",
   "version": "3.12.7"
  }
 },
 "nbformat": 4,
 "nbformat_minor": 5
}
