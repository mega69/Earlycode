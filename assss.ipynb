{
 "cells": [
  {
   "cell_type": "code",
   "execution_count": null,
   "id": "98986839-4c08-4025-89cb-97e1ad847d2f",
   "metadata": {},
   "outputs": [],
   "source": [
    "\n",
    "user1 = int(input('Enter dice role score 1-12'))\n",
    "user2 = int(input('Enter dice role  score 1-12'))\n",
    "limit=10\n",
    "round_count=0\n",
    "user1_score=0\n",
    "user2_score=0\n",
    "\n",
    "while round_count < limit:\n",
    "    if user1>user2:\n",
    "        user1_score = user1_score+5\n",
    "        print('User1 wins this rounds')\n",
    "    elif user2>user1:\n",
    "         user2_score = user2_score + 5\n",
    "         print('User2 wins this rounds')\n",
    "    elif:\n",
    "        user1_score = user1_score+1\n",
    "        user2_score = user2_score+1\n",
    "        print('its a tie both gets one 1 point')\n",
    "        break\n",
    "    round_count=round_count +1\n",
    "else:\n",
    "    print('final score results')\n",
    "    print(f\"User 1 totoal score is {user1_score}\")\n",
    "    print(f\"User 2 totoal score is {user2_score}\")\n",
    "        if user1_score>user2_score:\n",
    "            print('user 1 is the overall winner')\n",
    "        if user2_score>user1_score:\n",
    "            print('user 2 is the overall winner')\n",
    "        else:\n",
    "            print('its a tie')\n",
    "    "
   ]
  },
  {
   "cell_type": "code",
   "execution_count": null,
   "id": "b05a679e-55f8-4827-a3ca-241e6101bd39",
   "metadata": {},
   "outputs": [],
   "source": []
  }
 ],
 "metadata": {
  "kernelspec": {
   "display_name": "Python 3 (ipykernel)",
   "language": "python",
   "name": "python3"
  },
  "language_info": {
   "codemirror_mode": {
    "name": "ipython",
    "version": 3
   },
   "file_extension": ".py",
   "mimetype": "text/x-python",
   "name": "python",
   "nbconvert_exporter": "python",
   "pygments_lexer": "ipython3",
   "version": "3.12.7"
  }
 },
 "nbformat": 4,
 "nbformat_minor": 5
}
