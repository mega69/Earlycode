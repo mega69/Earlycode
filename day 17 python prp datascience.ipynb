{
 "cells": [
  {
   "cell_type": "code",
   "execution_count": 2,
   "id": "40d2911b-6c2e-47a3-ab20-9b3bcd75725e",
   "metadata": {},
   "outputs": [
    {
     "name": "stdout",
     "output_type": "stream",
     "text": [
      "['ALLOW_THREADS', 'BUFSIZE', 'CLIP', 'DataSource', 'ERR_CALL', 'ERR_DEFAULT', 'ERR_IGNORE', 'ERR_LOG', 'ERR_PRINT', 'ERR_RAISE', 'ERR_WARN', 'FLOATING_POINT_SUPPORT', 'FPE_DIVIDEBYZERO', 'FPE_INVALID', 'FPE_OVERFLOW', 'FPE_UNDERFLOW', 'False_', 'Inf', 'Infinity', 'MAXDIMS', 'MAY_SHARE_BOUNDS', 'MAY_SHARE_EXACT', 'NAN', 'NINF', 'NZERO', 'NaN', 'PINF', 'PZERO', 'RAISE', 'RankWarning', 'SHIFT_DIVIDEBYZERO', 'SHIFT_INVALID', 'SHIFT_OVERFLOW', 'SHIFT_UNDERFLOW', 'ScalarType', 'True_', 'UFUNC_BUFSIZE_DEFAULT', 'UFUNC_PYVALS_NAME', 'WRAP', '_CopyMode', '_NoValue', '_UFUNC_API', '__NUMPY_SETUP__', '__all__', '__builtins__', '__cached__', '__config__', '__deprecated_attrs__', '__dir__', '__doc__', '__expired_functions__', '__file__', '__former_attrs__', '__future_scalars__', '__getattr__', '__loader__', '__name__', '__package__', '__path__', '__spec__', '__version__', '_add_newdoc_ufunc', '_builtins', '_distributor_init', '_financial_names', '_get_promotion_state', '_globals', '_int_extended_msg', '_mat', '_no_nep50_warning', '_pyinstaller_hooks_dir', '_pytesttester', '_set_promotion_state', '_specific_msg', '_typing', '_using_numpy2_behavior', '_utils', 'abs', 'absolute', 'add', 'add_docstring', 'add_newdoc', 'add_newdoc_ufunc', 'all', 'allclose', 'alltrue', 'amax', 'amin', 'angle', 'any', 'append', 'apply_along_axis', 'apply_over_axes', 'arange', 'arccos', 'arccosh', 'arcsin', 'arcsinh', 'arctan', 'arctan2', 'arctanh', 'argmax', 'argmin', 'argpartition', 'argsort', 'argwhere', 'around', 'array', 'array2string', 'array_equal', 'array_equiv', 'array_repr', 'array_split', 'array_str', 'asanyarray', 'asarray', 'asarray_chkfinite', 'ascontiguousarray', 'asfarray', 'asfortranarray', 'asmatrix', 'atleast_1d', 'atleast_2d', 'atleast_3d', 'average', 'bartlett', 'base_repr', 'binary_repr', 'bincount', 'bitwise_and', 'bitwise_not', 'bitwise_or', 'bitwise_xor', 'blackman', 'block', 'bmat', 'bool_', 'broadcast', 'broadcast_arrays', 'broadcast_shapes', 'broadcast_to', 'busday_count', 'busday_offset', 'busdaycalendar', 'byte', 'byte_bounds', 'bytes_', 'c_', 'can_cast', 'cast', 'cbrt', 'cdouble', 'ceil', 'cfloat', 'char', 'character', 'chararray', 'choose', 'clip', 'clongdouble', 'clongfloat', 'column_stack', 'common_type', 'compare_chararrays', 'compat', 'complex128', 'complex64', 'complex_', 'complexfloating', 'compress', 'concatenate', 'conj', 'conjugate', 'convolve', 'copy', 'copysign', 'copyto', 'corrcoef', 'correlate', 'cos', 'cosh', 'count_nonzero', 'cov', 'cross', 'csingle', 'ctypeslib', 'cumprod', 'cumproduct', 'cumsum', 'datetime64', 'datetime_as_string', 'datetime_data', 'deg2rad', 'degrees', 'delete', 'deprecate', 'deprecate_with_doc', 'diag', 'diag_indices', 'diag_indices_from', 'diagflat', 'diagonal', 'diff', 'digitize', 'disp', 'divide', 'divmod', 'dot', 'double', 'dsplit', 'dstack', 'dtype', 'dtypes', 'e', 'ediff1d', 'einsum', 'einsum_path', 'emath', 'empty', 'empty_like', 'equal', 'errstate', 'euler_gamma', 'exceptions', 'exp', 'exp2', 'expand_dims', 'expm1', 'extract', 'eye', 'fabs', 'fastCopyAndTranspose', 'fft', 'fill_diagonal', 'find_common_type', 'finfo', 'fix', 'flatiter', 'flatnonzero', 'flexible', 'flip', 'fliplr', 'flipud', 'float16', 'float32', 'float64', 'float_', 'float_power', 'floating', 'floor', 'floor_divide', 'fmax', 'fmin', 'fmod', 'format_float_positional', 'format_float_scientific', 'format_parser', 'frexp', 'from_dlpack', 'frombuffer', 'fromfile', 'fromfunction', 'fromiter', 'frompyfunc', 'fromregex', 'fromstring', 'full', 'full_like', 'gcd', 'generic', 'genfromtxt', 'geomspace', 'get_array_wrap', 'get_include', 'get_printoptions', 'getbufsize', 'geterr', 'geterrcall', 'geterrobj', 'gradient', 'greater', 'greater_equal', 'half', 'hamming', 'hanning', 'heaviside', 'histogram', 'histogram2d', 'histogram_bin_edges', 'histogramdd', 'hsplit', 'hstack', 'hypot', 'i0', 'identity', 'iinfo', 'imag', 'in1d', 'index_exp', 'indices', 'inexact', 'inf', 'info', 'infty', 'inner', 'insert', 'int16', 'int32', 'int64', 'int8', 'int_', 'intc', 'integer', 'interp', 'intersect1d', 'intp', 'invert', 'is_busday', 'isclose', 'iscomplex', 'iscomplexobj', 'isfinite', 'isfortran', 'isin', 'isinf', 'isnan', 'isnat', 'isneginf', 'isposinf', 'isreal', 'isrealobj', 'isscalar', 'issctype', 'issubclass_', 'issubdtype', 'issubsctype', 'iterable', 'ix_', 'kaiser', 'kron', 'lcm', 'ldexp', 'left_shift', 'less', 'less_equal', 'lexsort', 'lib', 'linalg', 'linspace', 'little_endian', 'load', 'loadtxt', 'log', 'log10', 'log1p', 'log2', 'logaddexp', 'logaddexp2', 'logical_and', 'logical_not', 'logical_or', 'logical_xor', 'logspace', 'longcomplex', 'longdouble', 'longfloat', 'longlong', 'lookfor', 'ma', 'mask_indices', 'mat', 'matmul', 'matrix', 'max', 'maximum', 'maximum_sctype', 'may_share_memory', 'mean', 'median', 'memmap', 'meshgrid', 'mgrid', 'min', 'min_scalar_type', 'minimum', 'mintypecode', 'mod', 'modf', 'moveaxis', 'msort', 'multiply', 'nan', 'nan_to_num', 'nanargmax', 'nanargmin', 'nancumprod', 'nancumsum', 'nanmax', 'nanmean', 'nanmedian', 'nanmin', 'nanpercentile', 'nanprod', 'nanquantile', 'nanstd', 'nansum', 'nanvar', 'nbytes', 'ndarray', 'ndenumerate', 'ndim', 'ndindex', 'nditer', 'negative', 'nested_iters', 'newaxis', 'nextafter', 'nonzero', 'not_equal', 'numarray', 'number', 'obj2sctype', 'object_', 'ogrid', 'oldnumeric', 'ones', 'ones_like', 'outer', 'packbits', 'pad', 'partition', 'percentile', 'pi', 'piecewise', 'place', 'poly', 'poly1d', 'polyadd', 'polyder', 'polydiv', 'polyfit', 'polyint', 'polymul', 'polynomial', 'polysub', 'polyval', 'positive', 'power', 'printoptions', 'prod', 'product', 'promote_types', 'ptp', 'put', 'put_along_axis', 'putmask', 'quantile', 'r_', 'rad2deg', 'radians', 'random', 'ravel', 'ravel_multi_index', 'real', 'real_if_close', 'rec', 'recarray', 'recfromcsv', 'recfromtxt', 'reciprocal', 'record', 'remainder', 'repeat', 'require', 'reshape', 'resize', 'result_type', 'right_shift', 'rint', 'roll', 'rollaxis', 'roots', 'rot90', 'round', 'round_', 'row_stack', 's_', 'safe_eval', 'save', 'savetxt', 'savez', 'savez_compressed', 'sctype2char', 'sctypeDict', 'sctypes', 'searchsorted', 'select', 'set_numeric_ops', 'set_printoptions', 'set_string_function', 'setbufsize', 'setdiff1d', 'seterr', 'seterrcall', 'seterrobj', 'setxor1d', 'shape', 'shares_memory', 'short', 'show_config', 'show_runtime', 'sign', 'signbit', 'signedinteger', 'sin', 'sinc', 'single', 'singlecomplex', 'sinh', 'size', 'sometrue', 'sort', 'sort_complex', 'source', 'spacing', 'split', 'sqrt', 'square', 'squeeze', 'stack', 'std', 'str_', 'string_', 'subtract', 'sum', 'swapaxes', 'take', 'take_along_axis', 'tan', 'tanh', 'tensordot', 'test', 'testing', 'tile', 'timedelta64', 'trace', 'tracemalloc_domain', 'transpose', 'trapz', 'tri', 'tril', 'tril_indices', 'tril_indices_from', 'trim_zeros', 'triu', 'triu_indices', 'triu_indices_from', 'true_divide', 'trunc', 'typecodes', 'typename', 'ubyte', 'ufunc', 'uint', 'uint16', 'uint32', 'uint64', 'uint8', 'uintc', 'uintp', 'ulonglong', 'unicode_', 'union1d', 'unique', 'unpackbits', 'unravel_index', 'unsignedinteger', 'unwrap', 'ushort', 'vander', 'var', 'vdot', 'vectorize', 'version', 'void', 'vsplit', 'vstack', 'where', 'who', 'zeros', 'zeros_like']\n"
     ]
    }
   ],
   "source": [
    "import numpy as np\n",
    "print (dir(np))"
   ]
  },
  {
   "cell_type": "code",
   "execution_count": 10,
   "id": "3973efc3-23a6-45f4-ba4e-9ce1a00bc07c",
   "metadata": {},
   "outputs": [
    {
     "data": {
      "text/plain": [
       "array([45. , 80. , 25.2, 32. ])"
      ]
     },
     "execution_count": 10,
     "metadata": {},
     "output_type": "execute_result"
    }
   ],
   "source": [
    "arr1 = np.array([45,80,25.2,32],)\n",
    "arr1"
   ]
  },
  {
   "cell_type": "code",
   "execution_count": 11,
   "id": "fe67ec24-551e-45df-9c9f-598c260a7750",
   "metadata": {},
   "outputs": [
    {
     "data": {
      "text/plain": [
       "dtype('float64')"
      ]
     },
     "execution_count": 11,
     "metadata": {},
     "output_type": "execute_result"
    }
   ],
   "source": [
    "arr1.dtype"
   ]
  },
  {
   "cell_type": "code",
   "execution_count": 12,
   "id": "34c95578-a9ee-4bb0-814c-d419a2a475c5",
   "metadata": {},
   "outputs": [
    {
     "data": {
      "text/plain": [
       "(4,)"
      ]
     },
     "execution_count": 12,
     "metadata": {},
     "output_type": "execute_result"
    }
   ],
   "source": [
    "arr1.shape"
   ]
  },
  {
   "cell_type": "code",
   "execution_count": 13,
   "id": "d6a4b81e-100b-4474-9350-394d685af09c",
   "metadata": {},
   "outputs": [
    {
     "data": {
      "text/plain": [
       "1"
      ]
     },
     "execution_count": 13,
     "metadata": {},
     "output_type": "execute_result"
    }
   ],
   "source": [
    "arr1.ndim"
   ]
  },
  {
   "cell_type": "code",
   "execution_count": 14,
   "id": "db98a047-0a60-4e33-b2f9-f99b1a179018",
   "metadata": {},
   "outputs": [
    {
     "data": {
      "text/plain": [
       "array([[98, 56, 54, 25],\n",
       "       [12, 33, 69, 65],\n",
       "       [45, 48, 12, 14]])"
      ]
     },
     "execution_count": 14,
     "metadata": {},
     "output_type": "execute_result"
    }
   ],
   "source": [
    "arr2=np.array([[98,56,54,25], [12,33,69,65],[45,48,12,14]])\n",
    "arr2"
   ]
  },
  {
   "cell_type": "code",
   "execution_count": 17,
   "id": "f2df2712-f026-4a01-9499-6614a733c68e",
   "metadata": {},
   "outputs": [
    {
     "data": {
      "text/plain": [
       "dtype('int32')"
      ]
     },
     "execution_count": 17,
     "metadata": {},
     "output_type": "execute_result"
    }
   ],
   "source": [
    "arr2.dtype"
   ]
  },
  {
   "cell_type": "code",
   "execution_count": 15,
   "id": "e9c0d804-2756-49f3-b7bc-b7124d54b933",
   "metadata": {},
   "outputs": [
    {
     "data": {
      "text/plain": [
       "(3, 4)"
      ]
     },
     "execution_count": 15,
     "metadata": {},
     "output_type": "execute_result"
    }
   ],
   "source": [
    "arr2.shape"
   ]
  },
  {
   "cell_type": "code",
   "execution_count": 16,
   "id": "74aa2640-2b11-4454-a66a-fa7fdeba1671",
   "metadata": {},
   "outputs": [
    {
     "data": {
      "text/plain": [
       "2"
      ]
     },
     "execution_count": 16,
     "metadata": {},
     "output_type": "execute_result"
    }
   ],
   "source": [
    "arr2.ndim"
   ]
  },
  {
   "cell_type": "code",
   "execution_count": 18,
   "id": "595d229a-2e33-4c73-b528-9054d141226a",
   "metadata": {},
   "outputs": [
    {
     "data": {
      "text/plain": [
       "array([0., 0., 0., 0., 0., 0., 0., 0., 0., 0., 0., 0., 0., 0., 0.])"
      ]
     },
     "execution_count": 18,
     "metadata": {},
     "output_type": "execute_result"
    }
   ],
   "source": [
    "np.zeros(15)"
   ]
  },
  {
   "cell_type": "code",
   "execution_count": 19,
   "id": "e8604b0b-f22a-40b4-98f2-27239f8b0345",
   "metadata": {},
   "outputs": [
    {
     "data": {
      "text/plain": [
       "array([[0., 0., 0., 0., 0.],\n",
       "       [0., 0., 0., 0., 0.],\n",
       "       [0., 0., 0., 0., 0.],\n",
       "       [0., 0., 0., 0., 0.]])"
      ]
     },
     "execution_count": 19,
     "metadata": {},
     "output_type": "execute_result"
    }
   ],
   "source": [
    "np.zeros((4,5))"
   ]
  },
  {
   "cell_type": "code",
   "execution_count": 20,
   "id": "ef50ee7c-8540-4f53-aea0-c8948d303f04",
   "metadata": {},
   "outputs": [
    {
     "data": {
      "text/plain": [
       "array([1., 1., 1., 1., 1., 1., 1., 1., 1., 1.])"
      ]
     },
     "execution_count": 20,
     "metadata": {},
     "output_type": "execute_result"
    }
   ],
   "source": [
    "np.ones(10)"
   ]
  },
  {
   "cell_type": "code",
   "execution_count": 21,
   "id": "74a6f4cd-8fc2-48c4-9a59-b37c9c30024a",
   "metadata": {},
   "outputs": [
    {
     "data": {
      "text/plain": [
       "array([[1., 1., 1.],\n",
       "       [1., 1., 1.]])"
      ]
     },
     "execution_count": 21,
     "metadata": {},
     "output_type": "execute_result"
    }
   ],
   "source": [
    "np.ones((2,3))"
   ]
  },
  {
   "cell_type": "code",
   "execution_count": 27,
   "id": "80e878b1-d856-4986-9712-c381a51b2ae5",
   "metadata": {},
   "outputs": [
    {
     "data": {
      "text/plain": [
       "array([[15., 15., 15.],\n",
       "       [15., 15., 15.]])"
      ]
     },
     "execution_count": 27,
     "metadata": {},
     "output_type": "execute_result"
    }
   ],
   "source": [
    "np.ones((2,3))*15"
   ]
  },
  {
   "cell_type": "code",
   "execution_count": 28,
   "id": "f25c61db-4465-4fe5-ab0d-acf1e70e2385",
   "metadata": {},
   "outputs": [
    {
     "data": {
      "text/plain": [
       "array([[15., 15., 15., 15., 15.],\n",
       "       [15., 15., 15., 15., 15.],\n",
       "       [15., 15., 15., 15., 15.],\n",
       "       [15., 15., 15., 15., 15.]])"
      ]
     },
     "execution_count": 28,
     "metadata": {},
     "output_type": "execute_result"
    }
   ],
   "source": [
    "np.zeros((4,5))+15"
   ]
  },
  {
   "cell_type": "code",
   "execution_count": 29,
   "id": "0143ae70-8491-4da3-8dcc-15d5662438e5",
   "metadata": {},
   "outputs": [
    {
     "data": {
      "text/plain": [
       "array([[1., 0., 0., 0., 0., 0.],\n",
       "       [0., 1., 0., 0., 0., 0.],\n",
       "       [0., 0., 1., 0., 0., 0.],\n",
       "       [0., 0., 0., 1., 0., 0.],\n",
       "       [0., 0., 0., 0., 1., 0.],\n",
       "       [0., 0., 0., 0., 0., 1.]])"
      ]
     },
     "execution_count": 29,
     "metadata": {},
     "output_type": "execute_result"
    }
   ],
   "source": [
    "np.eye(6)"
   ]
  },
  {
   "cell_type": "code",
   "execution_count": 36,
   "id": "01871d65-1159-4378-81b1-1dbae1593c84",
   "metadata": {},
   "outputs": [
    {
     "data": {
      "text/plain": [
       "array([[1., 0., 0.],\n",
       "       [0., 1., 0.],\n",
       "       [0., 0., 1.],\n",
       "       [0., 0., 0.]])"
      ]
     },
     "execution_count": 36,
     "metadata": {},
     "output_type": "execute_result"
    }
   ],
   "source": [
    "np.eye(4,3)"
   ]
  },
  {
   "cell_type": "code",
   "execution_count": 37,
   "id": "04a8ddb1-cebe-40c8-86c1-44ac507b8540",
   "metadata": {},
   "outputs": [
    {
     "data": {
      "text/plain": [
       "array([14.        , 14.36363636, 14.72727273, 15.09090909, 15.45454545,\n",
       "       15.81818182, 16.18181818, 16.54545455, 16.90909091, 17.27272727,\n",
       "       17.63636364, 18.        , 18.36363636, 18.72727273, 19.09090909,\n",
       "       19.45454545, 19.81818182, 20.18181818, 20.54545455, 20.90909091,\n",
       "       21.27272727, 21.63636364, 22.        , 22.36363636, 22.72727273,\n",
       "       23.09090909, 23.45454545, 23.81818182, 24.18181818, 24.54545455,\n",
       "       24.90909091, 25.27272727, 25.63636364, 26.        , 26.36363636,\n",
       "       26.72727273, 27.09090909, 27.45454545, 27.81818182, 28.18181818,\n",
       "       28.54545455, 28.90909091, 29.27272727, 29.63636364, 30.        ,\n",
       "       30.36363636, 30.72727273, 31.09090909, 31.45454545, 31.81818182,\n",
       "       32.18181818, 32.54545455, 32.90909091, 33.27272727, 33.63636364,\n",
       "       34.        , 34.36363636, 34.72727273, 35.09090909, 35.45454545,\n",
       "       35.81818182, 36.18181818, 36.54545455, 36.90909091, 37.27272727,\n",
       "       37.63636364, 38.        , 38.36363636, 38.72727273, 39.09090909,\n",
       "       39.45454545, 39.81818182, 40.18181818, 40.54545455, 40.90909091,\n",
       "       41.27272727, 41.63636364, 42.        , 42.36363636, 42.72727273,\n",
       "       43.09090909, 43.45454545, 43.81818182, 44.18181818, 44.54545455,\n",
       "       44.90909091, 45.27272727, 45.63636364, 46.        , 46.36363636,\n",
       "       46.72727273, 47.09090909, 47.45454545, 47.81818182, 48.18181818,\n",
       "       48.54545455, 48.90909091, 49.27272727, 49.63636364, 50.        ])"
      ]
     },
     "execution_count": 37,
     "metadata": {},
     "output_type": "execute_result"
    }
   ],
   "source": [
    "np.linspace(14,50,100) #this generates a number between 14 to 50 where 100 is the total number of digits between 14 to 50 generated"
   ]
  },
  {
   "cell_type": "code",
   "execution_count": 38,
   "id": "9102c984-a057-4829-8105-fe23678df35b",
   "metadata": {},
   "outputs": [
    {
     "data": {
      "text/plain": [
       "array([14.        , 14.73469388, 15.46938776, 16.20408163, 16.93877551,\n",
       "       17.67346939, 18.40816327, 19.14285714, 19.87755102, 20.6122449 ,\n",
       "       21.34693878, 22.08163265, 22.81632653, 23.55102041, 24.28571429,\n",
       "       25.02040816, 25.75510204, 26.48979592, 27.2244898 , 27.95918367,\n",
       "       28.69387755, 29.42857143, 30.16326531, 30.89795918, 31.63265306,\n",
       "       32.36734694, 33.10204082, 33.83673469, 34.57142857, 35.30612245,\n",
       "       36.04081633, 36.7755102 , 37.51020408, 38.24489796, 38.97959184,\n",
       "       39.71428571, 40.44897959, 41.18367347, 41.91836735, 42.65306122,\n",
       "       43.3877551 , 44.12244898, 44.85714286, 45.59183673, 46.32653061,\n",
       "       47.06122449, 47.79591837, 48.53061224, 49.26530612, 50.        ])"
      ]
     },
     "execution_count": 38,
     "metadata": {},
     "output_type": "execute_result"
    }
   ],
   "source": [
    "np.linspace(14,50)"
   ]
  },
  {
   "cell_type": "code",
   "execution_count": 40,
   "id": "43aa84a5-a22e-4c3d-954f-6dd0e388f58a",
   "metadata": {},
   "outputs": [
    {
     "data": {
      "text/plain": [
       "array([ 1.,  2.,  3.,  4.,  5.,  6.,  7.,  8.,  9., 10., 11., 12., 13.,\n",
       "       14., 15., 16., 17., 18., 19., 20., 21., 22., 23., 24., 25., 26.,\n",
       "       27., 28., 29., 30., 31., 32., 33., 34., 35., 36., 37., 38., 39.,\n",
       "       40., 41., 42., 43., 44., 45., 46., 47., 48., 49., 50.])"
      ]
     },
     "execution_count": 40,
     "metadata": {},
     "output_type": "execute_result"
    }
   ],
   "source": [
    "np.linspace(1,50)"
   ]
  },
  {
   "cell_type": "code",
   "execution_count": 44,
   "id": "d2b2163d-3bdf-4597-a555-b65456603f1d",
   "metadata": {},
   "outputs": [
    {
     "data": {
      "text/plain": [
       "array([  1,   2,   3,   4,   5,   6,   7,   8,   9,  10,  11,  12,  13,\n",
       "        14,  15,  16,  17,  18,  19,  20,  21,  22,  23,  24,  25,  26,\n",
       "        27,  28,  29,  30,  31,  32,  33,  34,  35,  36,  37,  38,  39,\n",
       "        40,  41,  42,  43,  44,  45,  46,  47,  48,  49,  50,  51,  52,\n",
       "        53,  54,  55,  56,  57,  58,  59,  60,  61,  62,  63,  64,  65,\n",
       "        66,  67,  68,  69,  70,  71,  72,  73,  74,  75,  76,  77,  78,\n",
       "        79,  80,  81,  82,  83,  84,  85,  86,  87,  88,  89,  90,  91,\n",
       "        92,  93,  94,  95,  96,  97,  98,  99, 100, 101, 102, 103, 104,\n",
       "       105, 106, 107, 108, 109, 110, 111, 112, 113, 114, 115, 116, 117,\n",
       "       118, 119, 120, 121, 122, 123, 124, 125, 126, 127, 128, 129, 130,\n",
       "       131, 132, 133, 134, 135, 136, 137, 138, 139, 140, 141, 142, 143,\n",
       "       144, 145, 146, 147, 148, 149, 150])"
      ]
     },
     "execution_count": 44,
     "metadata": {},
     "output_type": "execute_result"
    }
   ],
   "source": [
    "arr3=np.arange(1,151)\n",
    "arr3"
   ]
  },
  {
   "cell_type": "code",
   "execution_count": 48,
   "id": "817da2bc-f327-4ea4-b1eb-6bcd13d16f01",
   "metadata": {},
   "outputs": [
    {
     "data": {
      "text/plain": [
       "array([  1,   4,   7,  10,  13,  16,  19,  22,  25,  28,  31,  34,  37,\n",
       "        40,  43,  46,  49,  52,  55,  58,  61,  64,  67,  70,  73,  76,\n",
       "        79,  82,  85,  88,  91,  94,  97, 100, 103, 106, 109, 112, 115,\n",
       "       118, 121, 124, 127, 130, 133, 136, 139, 142, 145, 148])"
      ]
     },
     "execution_count": 48,
     "metadata": {},
     "output_type": "execute_result"
    }
   ],
   "source": [
    "arr3=np.arange(1,151 , step=3)\n",
    "arr3"
   ]
  },
  {
   "cell_type": "code",
   "execution_count": 50,
   "id": "0e600a22-b9bd-4708-8024-bb80627ee13e",
   "metadata": {},
   "outputs": [
    {
     "data": {
      "text/plain": [
       "array([  0,   2,   4,   6,   8,  10,  12,  14,  16,  18,  20,  22,  24,\n",
       "        26,  28,  30,  32,  34,  36,  38,  40,  42,  44,  46,  48,  50,\n",
       "        52,  54,  56,  58,  60,  62,  64,  66,  68,  70,  72,  74,  76,\n",
       "        78,  80,  82,  84,  86,  88,  90,  92,  94,  96,  98, 100, 102,\n",
       "       104, 106, 108, 110, 112, 114, 116, 118, 120, 122, 124, 126, 128,\n",
       "       130, 132, 134, 136, 138, 140, 142, 144, 146, 148, 150])"
      ]
     },
     "execution_count": 50,
     "metadata": {},
     "output_type": "execute_result"
    }
   ],
   "source": [
    "arr3=np.arange(0,151 , step=2)\n",
    "arr3"
   ]
  },
  {
   "cell_type": "code",
   "execution_count": 51,
   "id": "b3b60ab0-657d-418f-849c-19c142564f6a",
   "metadata": {},
   "outputs": [
    {
     "data": {
      "text/plain": [
       "65"
      ]
     },
     "execution_count": 51,
     "metadata": {},
     "output_type": "execute_result"
    }
   ],
   "source": [
    "arr4=np.random.randint(10,75)\n",
    "arr4"
   ]
  },
  {
   "cell_type": "code",
   "execution_count": 53,
   "id": "a8de5e37-b2f5-4ec9-9b89-2130ff3140cd",
   "metadata": {},
   "outputs": [
    {
     "data": {
      "text/plain": [
       "array([12, 18, 57, 49, 36, 41, 34, 46, 19, 30, 26, 12, 54, 72, 45, 38, 57,\n",
       "       58, 25, 74, 55, 73, 34, 21, 52, 38, 37, 74, 13, 23, 54, 65, 74, 45,\n",
       "       55, 30, 20, 57, 40, 38, 43, 56, 13, 64, 17, 35, 48, 34, 39, 58, 71,\n",
       "       62, 16, 49, 63, 29, 52, 36, 25, 13, 16, 72, 60, 74, 13, 60, 27, 45,\n",
       "       23, 37, 69, 43, 36, 58, 74, 52, 55, 60, 45, 55, 59, 71, 31, 44, 41,\n",
       "       71, 33, 39, 72, 33, 25, 45, 58, 74, 73, 50, 57, 73, 22, 52])"
      ]
     },
     "execution_count": 53,
     "metadata": {},
     "output_type": "execute_result"
    }
   ],
   "source": [
    "arr4=np.random.randint(10,75, size=100)\n",
    "arr4"
   ]
  },
  {
   "cell_type": "code",
   "execution_count": 56,
   "id": "13b071bd-9678-4102-9dcc-546ae36f6cfe",
   "metadata": {},
   "outputs": [
    {
     "data": {
      "text/plain": [
       "array([5, 7, 4, 2, 3])"
      ]
     },
     "execution_count": 56,
     "metadata": {},
     "output_type": "execute_result"
    }
   ],
   "source": [
    "arr4=np.random.randint(0,9, size=5)\n",
    "arr4"
   ]
  },
  {
   "cell_type": "code",
   "execution_count": 65,
   "id": "6c6203f0-2f86-4d74-b4ec-31f5dafc368e",
   "metadata": {},
   "outputs": [
    {
     "data": {
      "text/plain": [
       "array([56, 65, 11, 60, 19, 68, 65, 65, 67, 46, 60, 54, 48, 62, 13, 10, 65,\n",
       "       31, 31, 48, 66, 56, 40, 18, 59, 68, 42, 50, 52, 55, 43, 42, 38, 13,\n",
       "       67, 60, 27, 69, 58, 33, 32, 72, 72, 33, 66, 65, 63, 46, 69, 61, 18,\n",
       "       47, 69, 64, 40, 14, 64, 18, 41, 50, 27, 19, 63, 72, 69, 13, 14, 49,\n",
       "       64, 50, 63, 32, 27, 37, 70, 53, 25, 23, 10, 20, 17, 73, 69, 62, 62,\n",
       "       74, 56, 52, 59, 41, 45, 40, 13, 30, 17, 61, 20, 51, 25, 51])"
      ]
     },
     "execution_count": 65,
     "metadata": {},
     "output_type": "execute_result"
    }
   ],
   "source": [
    "np.random.seed(4)\n",
    "arr4=np.random.randint(10,75, size=100)\n",
    "arr4"
   ]
  },
  {
   "cell_type": "code",
   "execution_count": 66,
   "id": "8c031fba-00e6-4855-9150-786782af0974",
   "metadata": {},
   "outputs": [
    {
     "data": {
      "text/plain": [
       "array([[56, 65, 11, 60, 19, 68, 65, 65, 67, 46],\n",
       "       [60, 54, 48, 62, 13, 10, 65, 31, 31, 48],\n",
       "       [66, 56, 40, 18, 59, 68, 42, 50, 52, 55],\n",
       "       [43, 42, 38, 13, 67, 60, 27, 69, 58, 33],\n",
       "       [32, 72, 72, 33, 66, 65, 63, 46, 69, 61],\n",
       "       [18, 47, 69, 64, 40, 14, 64, 18, 41, 50],\n",
       "       [27, 19, 63, 72, 69, 13, 14, 49, 64, 50],\n",
       "       [63, 32, 27, 37, 70, 53, 25, 23, 10, 20],\n",
       "       [17, 73, 69, 62, 62, 74, 56, 52, 59, 41],\n",
       "       [45, 40, 13, 30, 17, 61, 20, 51, 25, 51]])"
      ]
     },
     "execution_count": 66,
     "metadata": {},
     "output_type": "execute_result"
    }
   ],
   "source": [
    "arr5=arr4.reshape(10,10)\n",
    "arr5"
   ]
  },
  {
   "cell_type": "code",
   "execution_count": 67,
   "id": "008e2369-8a43-48ac-9a4a-3d6e98fb25ba",
   "metadata": {},
   "outputs": [
    {
     "data": {
      "text/plain": [
       "66"
      ]
     },
     "execution_count": 67,
     "metadata": {},
     "output_type": "execute_result"
    }
   ],
   "source": [
    "arr5[4,4]\n",
    "#to select a particular number from the array we use the rows and coloumn to pick starting count from 0\n"
   ]
  },
  {
   "cell_type": "code",
   "execution_count": 71,
   "id": "cd78cab1-28af-4678-b083-ed45b430324b",
   "metadata": {},
   "outputs": [
    {
     "data": {
      "text/plain": [
       "array([[13, 67, 60, 27],\n",
       "       [33, 66, 65, 63],\n",
       "       [64, 40, 14, 64],\n",
       "       [72, 69, 13, 14]])"
      ]
     },
     "execution_count": 71,
     "metadata": {},
     "output_type": "execute_result"
    }
   ],
   "source": [
    "#      [56, 65, 11, 60, 19, 68, 65, 65, 67, 46],\n",
    " #      [60, 54, 48, 62, 13, 10, 65, 31, 31, 48],\n",
    " #      [66, 56, 40, 18, 59, 68, 42, 50, 52, 55],\n",
    "  #     [43, 42, 38, (13, 67, 60, 27,) 69, 58, 33],\n",
    "   #    [32, 72, 72, (33, 66, 65, 63,) 46, 69, 61],\n",
    "   #    [18, 47, 69, (64, 40, 14, 64,) 18, 41, 50],\n",
    "    #   [27, 19, 63, (72, 69, 13, 14,) 49, 64, 50],\n",
    "     #  [63, 32, 27, 37, 70, 53, 25, 23, 10, 20],\n",
    "     #  [17, 73, 69, 62, 62, 74, 56, 52, 59, 41],\n",
    "      # [45, 40, 13, 30, 17, 61, 20, 51, 25, 51]\n",
    "\n",
    "arr5[3:7,3:7]\n",
    "#to select a particular number from the array we use the rows and coloumn to pick starting count from 0\n"
   ]
  },
  {
   "cell_type": "code",
   "execution_count": 72,
   "id": "819dc03f-15ce-4ca8-9ae6-1bb088daada8",
   "metadata": {},
   "outputs": [
    {
     "data": {
      "text/plain": [
       "array([56, 65, 11, 60, 19, 68, 65, 65, 67, 46, 60, 54, 48, 62, 13, 10, 65,\n",
       "       31, 31, 48, 66, 56, 40, 18, 59, 68, 42, 50, 52, 55, 43, 42, 38, 13,\n",
       "       67, 60, 27, 69, 58, 33, 32, 72, 72, 33, 66, 65, 63, 46, 69, 61, 18,\n",
       "       47, 69, 64, 40, 14, 64, 18, 41, 50, 27, 19, 63, 72, 69, 13, 14, 49,\n",
       "       64, 50, 63, 32, 27, 37, 70, 53, 25, 23, 10, 20, 17, 73, 69, 62, 62,\n",
       "       74, 56, 52, 59, 41, 45, 40, 13, 30, 17, 61, 20, 51, 25, 51])"
      ]
     },
     "execution_count": 72,
     "metadata": {},
     "output_type": "execute_result"
    }
   ],
   "source": [
    "arr6=arr5.flatten()\n",
    "arr6\n",
    "#to convert a 2d back to 1 dimension"
   ]
  },
  {
   "cell_type": "code",
   "execution_count": 73,
   "id": "106aa826-632a-4577-929b-68d489a59b08",
   "metadata": {},
   "outputs": [
    {
     "data": {
      "text/plain": [
       "4622"
      ]
     },
     "execution_count": 73,
     "metadata": {},
     "output_type": "execute_result"
    }
   ],
   "source": [
    "np.sum(arr6)"
   ]
  },
  {
   "cell_type": "code",
   "execution_count": 74,
   "id": "9ad0aaa9-961c-4818-861e-0ca59a00a0c2",
   "metadata": {},
   "outputs": [
    {
     "data": {
      "text/plain": [
       "46.22"
      ]
     },
     "execution_count": 74,
     "metadata": {},
     "output_type": "execute_result"
    }
   ],
   "source": [
    "np.mean(arr6)"
   ]
  },
  {
   "cell_type": "code",
   "execution_count": 75,
   "id": "f8a630cc-3582-4528-a644-2b24f0b1cb96",
   "metadata": {},
   "outputs": [
    {
     "data": {
      "text/plain": [
       "50.0"
      ]
     },
     "execution_count": 75,
     "metadata": {},
     "output_type": "execute_result"
    }
   ],
   "source": [
    "np.median(arr6)"
   ]
  },
  {
   "cell_type": "code",
   "execution_count": 76,
   "id": "4e26192e-4a77-446d-ae6c-2576983521a2",
   "metadata": {},
   "outputs": [
    {
     "data": {
      "text/plain": [
       "10"
      ]
     },
     "execution_count": 76,
     "metadata": {},
     "output_type": "execute_result"
    }
   ],
   "source": [
    "np.min(arr6)"
   ]
  },
  {
   "cell_type": "code",
   "execution_count": 77,
   "id": "4d648d70-482f-41c6-ba64-775bc012e7b3",
   "metadata": {},
   "outputs": [
    {
     "data": {
      "text/plain": [
       "74"
      ]
     },
     "execution_count": 77,
     "metadata": {},
     "output_type": "execute_result"
    }
   ],
   "source": [
    "np.max(arr6)"
   ]
  },
  {
   "cell_type": "code",
   "execution_count": 78,
   "id": "594a13a6-7ee9-49d2-adfb-8ae5483ab4c4",
   "metadata": {},
   "outputs": [
    {
     "data": {
      "text/plain": [
       "373.6116"
      ]
     },
     "execution_count": 78,
     "metadata": {},
     "output_type": "execute_result"
    }
   ],
   "source": [
    "np.var(arr6)"
   ]
  },
  {
   "cell_type": "code",
   "execution_count": 81,
   "id": "a0dc934a-c6e8-4fe8-9282-feb225cb9f0c",
   "metadata": {},
   "outputs": [
    {
     "data": {
      "text/plain": [
       "19.329035154399197"
      ]
     },
     "execution_count": 81,
     "metadata": {},
     "output_type": "execute_result"
    }
   ],
   "source": [
    "np.std(arr6)"
   ]
  },
  {
   "cell_type": "code",
   "execution_count": 82,
   "id": "0324c99f-f8fe-4fd8-a367-189ff350d090",
   "metadata": {},
   "outputs": [
    {
     "data": {
      "text/plain": [
       "47.550000000000004"
      ]
     },
     "execution_count": 82,
     "metadata": {},
     "output_type": "execute_result"
    }
   ],
   "source": [
    "np.percentile(arr6,45)"
   ]
  },
  {
   "cell_type": "code",
   "execution_count": 84,
   "id": "f5005d0f-b9f3-4c18-a444-4c784a84c2cc",
   "metadata": {},
   "outputs": [
    {
     "data": {
      "text/plain": [
       "array([7.48331477, 8.06225775, 3.31662479, 7.74596669, 4.35889894,\n",
       "       8.24621125, 8.06225775, 8.06225775, 8.18535277, 6.78232998,\n",
       "       7.74596669, 7.34846923, 6.92820323, 7.87400787, 3.60555128,\n",
       "       3.16227766, 8.06225775, 5.56776436, 5.56776436, 6.92820323,\n",
       "       8.1240384 , 7.48331477, 6.32455532, 4.24264069, 7.68114575,\n",
       "       8.24621125, 6.4807407 , 7.07106781, 7.21110255, 7.41619849,\n",
       "       6.55743852, 6.4807407 , 6.164414  , 3.60555128, 8.18535277,\n",
       "       7.74596669, 5.19615242, 8.30662386, 7.61577311, 5.74456265,\n",
       "       5.65685425, 8.48528137, 8.48528137, 5.74456265, 8.1240384 ,\n",
       "       8.06225775, 7.93725393, 6.78232998, 8.30662386, 7.81024968,\n",
       "       4.24264069, 6.8556546 , 8.30662386, 8.        , 6.32455532,\n",
       "       3.74165739, 8.        , 4.24264069, 6.40312424, 7.07106781,\n",
       "       5.19615242, 4.35889894, 7.93725393, 8.48528137, 8.30662386,\n",
       "       3.60555128, 3.74165739, 7.        , 8.        , 7.07106781,\n",
       "       7.93725393, 5.65685425, 5.19615242, 6.08276253, 8.36660027,\n",
       "       7.28010989, 5.        , 4.79583152, 3.16227766, 4.47213595,\n",
       "       4.12310563, 8.54400375, 8.30662386, 7.87400787, 7.87400787,\n",
       "       8.60232527, 7.48331477, 7.21110255, 7.68114575, 6.40312424,\n",
       "       6.70820393, 6.32455532, 3.60555128, 5.47722558, 4.12310563,\n",
       "       7.81024968, 4.47213595, 7.14142843, 5.        , 7.14142843])"
      ]
     },
     "execution_count": 84,
     "metadata": {},
     "output_type": "execute_result"
    }
   ],
   "source": [
    "np.sqrt(arr6)"
   ]
  },
  {
   "cell_type": "code",
   "execution_count": null,
   "id": "30777d80-0ec1-486f-807a-1006d5a81c88",
   "metadata": {},
   "outputs": [],
   "source": []
  },
  {
   "cell_type": "code",
   "execution_count": 86,
   "id": "c019c8d8-8b78-436f-9d57-9852fb16fa11",
   "metadata": {},
   "outputs": [],
   "source": [
    "#exercise \n",
    "#generate an array between 4,80,150 in total \n",
    "#convert the array to 2d of the nearest rows and colomns\n",
    "# after select the values from row 3 to 6 and colomn 4 to 7\n",
    "# find the sum, max,min,std, 30 percentile, 75 percentile , mena and var of the array"
   ]
  },
  {
   "cell_type": "code",
   "execution_count": 88,
   "id": "a786c485-b78e-4f8f-8057-40baf889728e",
   "metadata": {},
   "outputs": [],
   "source": [
    "#sol"
   ]
  },
  {
   "cell_type": "code",
   "execution_count": null,
   "id": "8c52bb3c-695f-479f-b16c-667ae58bc16f",
   "metadata": {},
   "outputs": [],
   "source": []
  },
  {
   "cell_type": "code",
   "execution_count": 93,
   "id": "8ec79637-135f-448c-9cc8-882ea637514d",
   "metadata": {},
   "outputs": [
    {
     "data": {
      "text/plain": [
       "array([32, 45,  5, 47, 58, 31, 52, 22, 60, 16, 77, 20, 46, 69, 41, 73, 27,\n",
       "       48, 46, 47, 26, 60, 49, 71, 74, 14, 14, 40, 38, 12, 62, 75, 42,  6,\n",
       "       66, 76, 38, 53, 52, 43, 29, 20, 54, 32, 20,  4, 17, 28, 26, 40, 45,\n",
       "       28, 20, 78, 24, 37, 47, 25, 39, 65, 61, 71,  5, 41, 27, 27, 60, 17,\n",
       "        5, 64, 26, 50, 33, 20,  4, 32, 77, 77,  8, 25, 45, 44, 36,  4, 43,\n",
       "       18, 32, 49, 64, 46, 30, 18, 68, 64, 36, 67, 10, 42, 13, 41, 38, 49,\n",
       "       64, 28, 72,  9, 25, 23, 66, 50, 13, 59, 48, 68, 51, 49,  5, 61, 37,\n",
       "       44, 67,  8,  8, 10, 22, 44, 65, 18,  5, 34,  6, 56, 20, 18, 11, 27,\n",
       "       61, 19, 36, 64, 16, 29, 21, 77, 79, 63,  4, 23, 55, 20])"
      ]
     },
     "execution_count": 93,
     "metadata": {},
     "output_type": "execute_result"
    }
   ],
   "source": [
    "arr8=np.random.randint(4,80, size=150)\n",
    "arr8"
   ]
  },
  {
   "cell_type": "code",
   "execution_count": 94,
   "id": "fa5fef5b-0252-4f51-81ee-9f842e5c6234",
   "metadata": {},
   "outputs": [
    {
     "data": {
      "text/plain": [
       "array([[32, 45,  5, 47, 58, 31, 52, 22, 60, 16, 77, 20, 46, 69, 41],\n",
       "       [73, 27, 48, 46, 47, 26, 60, 49, 71, 74, 14, 14, 40, 38, 12],\n",
       "       [62, 75, 42,  6, 66, 76, 38, 53, 52, 43, 29, 20, 54, 32, 20],\n",
       "       [ 4, 17, 28, 26, 40, 45, 28, 20, 78, 24, 37, 47, 25, 39, 65],\n",
       "       [61, 71,  5, 41, 27, 27, 60, 17,  5, 64, 26, 50, 33, 20,  4],\n",
       "       [32, 77, 77,  8, 25, 45, 44, 36,  4, 43, 18, 32, 49, 64, 46],\n",
       "       [30, 18, 68, 64, 36, 67, 10, 42, 13, 41, 38, 49, 64, 28, 72],\n",
       "       [ 9, 25, 23, 66, 50, 13, 59, 48, 68, 51, 49,  5, 61, 37, 44],\n",
       "       [67,  8,  8, 10, 22, 44, 65, 18,  5, 34,  6, 56, 20, 18, 11],\n",
       "       [27, 61, 19, 36, 64, 16, 29, 21, 77, 79, 63,  4, 23, 55, 20]])"
      ]
     },
     "execution_count": 94,
     "metadata": {},
     "output_type": "execute_result"
    }
   ],
   "source": [
    "arr9=arr8.reshape(10,15)\n",
    "arr9"
   ]
  },
  {
   "cell_type": "code",
   "execution_count": 95,
   "id": "8d6cc303-046f-4d7b-a0a4-1179f451a269",
   "metadata": {},
   "outputs": [
    {
     "data": {
      "text/plain": [
       "array([[67, 60, 27],\n",
       "       [66, 65, 63],\n",
       "       [40, 14, 64]])"
      ]
     },
     "execution_count": 95,
     "metadata": {},
     "output_type": "execute_result"
    }
   ],
   "source": [
    "arr5[3:6,4:7]"
   ]
  },
  {
   "cell_type": "code",
   "execution_count": 96,
   "id": "7ede26bf-dba9-429d-8fd7-63df49b31bb8",
   "metadata": {},
   "outputs": [
    {
     "data": {
      "text/plain": [
       "5796"
      ]
     },
     "execution_count": 96,
     "metadata": {},
     "output_type": "execute_result"
    }
   ],
   "source": [
    "np.sum(arr9)"
   ]
  },
  {
   "cell_type": "code",
   "execution_count": 97,
   "id": "39633a49-2e4a-4c3d-b411-1230659cfeab",
   "metadata": {},
   "outputs": [
    {
     "data": {
      "text/plain": [
       "79"
      ]
     },
     "execution_count": 97,
     "metadata": {},
     "output_type": "execute_result"
    }
   ],
   "source": [
    "np.max(arr9)"
   ]
  },
  {
   "cell_type": "code",
   "execution_count": 98,
   "id": "d24c118b-e385-4040-84df-17977f41c584",
   "metadata": {},
   "outputs": [
    {
     "data": {
      "text/plain": [
       "4"
      ]
     },
     "execution_count": 98,
     "metadata": {},
     "output_type": "execute_result"
    }
   ],
   "source": [
    "np.min(arr9)"
   ]
  },
  {
   "cell_type": "code",
   "execution_count": 99,
   "id": "89d47061-565d-486b-bde7-ab4bac5372d5",
   "metadata": {},
   "outputs": [
    {
     "data": {
      "text/plain": [
       "21.30611179919978"
      ]
     },
     "execution_count": 99,
     "metadata": {},
     "output_type": "execute_result"
    }
   ],
   "source": [
    "np.std(arr9)"
   ]
  },
  {
   "cell_type": "code",
   "execution_count": 100,
   "id": "f13d4ae7-462c-4fc3-87b4-e1ff01bf21e3",
   "metadata": {},
   "outputs": [
    {
     "data": {
      "text/plain": [
       "24.699999999999996"
      ]
     },
     "execution_count": 100,
     "metadata": {},
     "output_type": "execute_result"
    }
   ],
   "source": [
    "np.percentile(arr9 , 30)"
   ]
  },
  {
   "cell_type": "code",
   "execution_count": 101,
   "id": "dc3ebb1f-c5cd-451e-bf39-8eabadeaed3b",
   "metadata": {},
   "outputs": [
    {
     "data": {
      "text/plain": [
       "55.75"
      ]
     },
     "execution_count": 101,
     "metadata": {},
     "output_type": "execute_result"
    }
   ],
   "source": [
    "np.percentile(arr9, 75)"
   ]
  },
  {
   "cell_type": "code",
   "execution_count": 102,
   "id": "ad62fb92-9272-4386-8fa3-e8b0991da003",
   "metadata": {},
   "outputs": [
    {
     "data": {
      "text/plain": [
       "38.64"
      ]
     },
     "execution_count": 102,
     "metadata": {},
     "output_type": "execute_result"
    }
   ],
   "source": [
    "np.mean(arr9)"
   ]
  },
  {
   "cell_type": "code",
   "execution_count": 103,
   "id": "9f3e5340-c496-47cf-ac86-a6a7a98de77c",
   "metadata": {},
   "outputs": [
    {
     "data": {
      "text/plain": [
       "453.95040000000006"
      ]
     },
     "execution_count": 103,
     "metadata": {},
     "output_type": "execute_result"
    }
   ],
   "source": [
    "np.var(arr9)"
   ]
  },
  {
   "cell_type": "code",
   "execution_count": 1,
   "id": "9a155f56-0fe5-4702-bbec-eb1227caed97",
   "metadata": {},
   "outputs": [],
   "source": [
    "\n",
    "\n",
    "\n",
    "\n",
    "\n",
    "\n",
    "#day 18 data science python propal"
   ]
  },
  {
   "cell_type": "code",
   "execution_count": 2,
   "id": "56367307-59dd-41ce-a04f-f85711e4caf3",
   "metadata": {},
   "outputs": [],
   "source": [
    "import numpy as np\n",
    "import pandas as pd"
   ]
  },
  {
   "cell_type": "code",
   "execution_count": 5,
   "id": "099c26ff-0524-4048-b35e-6ea59471af1f",
   "metadata": {},
   "outputs": [
    {
     "data": {
      "text/html": [
       "<div>\n",
       "<style scoped>\n",
       "    .dataframe tbody tr th:only-of-type {\n",
       "        vertical-align: middle;\n",
       "    }\n",
       "\n",
       "    .dataframe tbody tr th {\n",
       "        vertical-align: top;\n",
       "    }\n",
       "\n",
       "    .dataframe thead th {\n",
       "        text-align: right;\n",
       "    }\n",
       "</style>\n",
       "<table border=\"1\" class=\"dataframe\">\n",
       "  <thead>\n",
       "    <tr style=\"text-align: right;\">\n",
       "      <th></th>\n",
       "      <th>CA1</th>\n",
       "      <th>CA2</th>\n",
       "      <th>CA3</th>\n",
       "    </tr>\n",
       "  </thead>\n",
       "  <tbody>\n",
       "    <tr>\n",
       "      <th>1</th>\n",
       "      <td>4</td>\n",
       "      <td>7</td>\n",
       "      <td>7</td>\n",
       "    </tr>\n",
       "    <tr>\n",
       "      <th>2</th>\n",
       "      <td>1</td>\n",
       "      <td>10</td>\n",
       "      <td>9</td>\n",
       "    </tr>\n",
       "    <tr>\n",
       "      <th>3</th>\n",
       "      <td>5</td>\n",
       "      <td>8</td>\n",
       "      <td>1</td>\n",
       "    </tr>\n",
       "    <tr>\n",
       "      <th>4</th>\n",
       "      <td>1</td>\n",
       "      <td>8</td>\n",
       "      <td>2</td>\n",
       "    </tr>\n",
       "    <tr>\n",
       "      <th>5</th>\n",
       "      <td>6</td>\n",
       "      <td>8</td>\n",
       "      <td>1</td>\n",
       "    </tr>\n",
       "    <tr>\n",
       "      <th>6</th>\n",
       "      <td>2</td>\n",
       "      <td>5</td>\n",
       "      <td>7</td>\n",
       "    </tr>\n",
       "    <tr>\n",
       "      <th>7</th>\n",
       "      <td>3</td>\n",
       "      <td>10</td>\n",
       "      <td>10</td>\n",
       "    </tr>\n",
       "    <tr>\n",
       "      <th>8</th>\n",
       "      <td>10</td>\n",
       "      <td>10</td>\n",
       "      <td>2</td>\n",
       "    </tr>\n",
       "    <tr>\n",
       "      <th>9</th>\n",
       "      <td>3</td>\n",
       "      <td>8</td>\n",
       "      <td>1</td>\n",
       "    </tr>\n",
       "    <tr>\n",
       "      <th>10</th>\n",
       "      <td>6</td>\n",
       "      <td>1</td>\n",
       "      <td>1</td>\n",
       "    </tr>\n",
       "    <tr>\n",
       "      <th>11</th>\n",
       "      <td>5</td>\n",
       "      <td>5</td>\n",
       "      <td>10</td>\n",
       "    </tr>\n",
       "    <tr>\n",
       "      <th>12</th>\n",
       "      <td>4</td>\n",
       "      <td>3</td>\n",
       "      <td>5</td>\n",
       "    </tr>\n",
       "    <tr>\n",
       "      <th>13</th>\n",
       "      <td>7</td>\n",
       "      <td>10</td>\n",
       "      <td>4</td>\n",
       "    </tr>\n",
       "    <tr>\n",
       "      <th>14</th>\n",
       "      <td>4</td>\n",
       "      <td>3</td>\n",
       "      <td>2</td>\n",
       "    </tr>\n",
       "    <tr>\n",
       "      <th>15</th>\n",
       "      <td>6</td>\n",
       "      <td>8</td>\n",
       "      <td>5</td>\n",
       "    </tr>\n",
       "    <tr>\n",
       "      <th>16</th>\n",
       "      <td>4</td>\n",
       "      <td>2</td>\n",
       "      <td>8</td>\n",
       "    </tr>\n",
       "    <tr>\n",
       "      <th>17</th>\n",
       "      <td>4</td>\n",
       "      <td>2</td>\n",
       "      <td>10</td>\n",
       "    </tr>\n",
       "    <tr>\n",
       "      <th>18</th>\n",
       "      <td>6</td>\n",
       "      <td>8</td>\n",
       "      <td>1</td>\n",
       "    </tr>\n",
       "    <tr>\n",
       "      <th>19</th>\n",
       "      <td>10</td>\n",
       "      <td>7</td>\n",
       "      <td>1</td>\n",
       "    </tr>\n",
       "    <tr>\n",
       "      <th>20</th>\n",
       "      <td>6</td>\n",
       "      <td>3</td>\n",
       "      <td>9</td>\n",
       "    </tr>\n",
       "    <tr>\n",
       "      <th>21</th>\n",
       "      <td>7</td>\n",
       "      <td>9</td>\n",
       "      <td>1</td>\n",
       "    </tr>\n",
       "    <tr>\n",
       "      <th>22</th>\n",
       "      <td>6</td>\n",
       "      <td>3</td>\n",
       "      <td>1</td>\n",
       "    </tr>\n",
       "    <tr>\n",
       "      <th>23</th>\n",
       "      <td>8</td>\n",
       "      <td>8</td>\n",
       "      <td>7</td>\n",
       "    </tr>\n",
       "    <tr>\n",
       "      <th>24</th>\n",
       "      <td>1</td>\n",
       "      <td>1</td>\n",
       "      <td>9</td>\n",
       "    </tr>\n",
       "    <tr>\n",
       "      <th>25</th>\n",
       "      <td>6</td>\n",
       "      <td>6</td>\n",
       "      <td>10</td>\n",
       "    </tr>\n",
       "    <tr>\n",
       "      <th>26</th>\n",
       "      <td>7</td>\n",
       "      <td>5</td>\n",
       "      <td>6</td>\n",
       "    </tr>\n",
       "    <tr>\n",
       "      <th>27</th>\n",
       "      <td>3</td>\n",
       "      <td>9</td>\n",
       "      <td>9</td>\n",
       "    </tr>\n",
       "    <tr>\n",
       "      <th>28</th>\n",
       "      <td>2</td>\n",
       "      <td>7</td>\n",
       "      <td>4</td>\n",
       "    </tr>\n",
       "    <tr>\n",
       "      <th>29</th>\n",
       "      <td>5</td>\n",
       "      <td>2</td>\n",
       "      <td>9</td>\n",
       "    </tr>\n",
       "    <tr>\n",
       "      <th>30</th>\n",
       "      <td>1</td>\n",
       "      <td>3</td>\n",
       "      <td>3</td>\n",
       "    </tr>\n",
       "    <tr>\n",
       "      <th>31</th>\n",
       "      <td>5</td>\n",
       "      <td>2</td>\n",
       "      <td>7</td>\n",
       "    </tr>\n",
       "    <tr>\n",
       "      <th>32</th>\n",
       "      <td>4</td>\n",
       "      <td>5</td>\n",
       "      <td>4</td>\n",
       "    </tr>\n",
       "    <tr>\n",
       "      <th>33</th>\n",
       "      <td>2</td>\n",
       "      <td>5</td>\n",
       "      <td>3</td>\n",
       "    </tr>\n",
       "    <tr>\n",
       "      <th>34</th>\n",
       "      <td>4</td>\n",
       "      <td>5</td>\n",
       "      <td>10</td>\n",
       "    </tr>\n",
       "    <tr>\n",
       "      <th>35</th>\n",
       "      <td>5</td>\n",
       "      <td>1</td>\n",
       "      <td>7</td>\n",
       "    </tr>\n",
       "    <tr>\n",
       "      <th>36</th>\n",
       "      <td>7</td>\n",
       "      <td>10</td>\n",
       "      <td>3</td>\n",
       "    </tr>\n",
       "    <tr>\n",
       "      <th>37</th>\n",
       "      <td>10</td>\n",
       "      <td>4</td>\n",
       "      <td>1</td>\n",
       "    </tr>\n",
       "    <tr>\n",
       "      <th>38</th>\n",
       "      <td>9</td>\n",
       "      <td>9</td>\n",
       "      <td>10</td>\n",
       "    </tr>\n",
       "    <tr>\n",
       "      <th>39</th>\n",
       "      <td>8</td>\n",
       "      <td>5</td>\n",
       "      <td>9</td>\n",
       "    </tr>\n",
       "    <tr>\n",
       "      <th>40</th>\n",
       "      <td>7</td>\n",
       "      <td>9</td>\n",
       "      <td>1</td>\n",
       "    </tr>\n",
       "    <tr>\n",
       "      <th>41</th>\n",
       "      <td>6</td>\n",
       "      <td>4</td>\n",
       "      <td>5</td>\n",
       "    </tr>\n",
       "    <tr>\n",
       "      <th>42</th>\n",
       "      <td>1</td>\n",
       "      <td>3</td>\n",
       "      <td>3</td>\n",
       "    </tr>\n",
       "    <tr>\n",
       "      <th>43</th>\n",
       "      <td>2</td>\n",
       "      <td>2</td>\n",
       "      <td>8</td>\n",
       "    </tr>\n",
       "    <tr>\n",
       "      <th>44</th>\n",
       "      <td>2</td>\n",
       "      <td>8</td>\n",
       "      <td>3</td>\n",
       "    </tr>\n",
       "    <tr>\n",
       "      <th>45</th>\n",
       "      <td>7</td>\n",
       "      <td>4</td>\n",
       "      <td>7</td>\n",
       "    </tr>\n",
       "    <tr>\n",
       "      <th>46</th>\n",
       "      <td>9</td>\n",
       "      <td>1</td>\n",
       "      <td>10</td>\n",
       "    </tr>\n",
       "    <tr>\n",
       "      <th>47</th>\n",
       "      <td>2</td>\n",
       "      <td>10</td>\n",
       "      <td>1</td>\n",
       "    </tr>\n",
       "    <tr>\n",
       "      <th>48</th>\n",
       "      <td>9</td>\n",
       "      <td>8</td>\n",
       "      <td>8</td>\n",
       "    </tr>\n",
       "    <tr>\n",
       "      <th>49</th>\n",
       "      <td>10</td>\n",
       "      <td>5</td>\n",
       "      <td>2</td>\n",
       "    </tr>\n",
       "    <tr>\n",
       "      <th>50</th>\n",
       "      <td>5</td>\n",
       "      <td>3</td>\n",
       "      <td>2</td>\n",
       "    </tr>\n",
       "  </tbody>\n",
       "</table>\n",
       "</div>"
      ],
      "text/plain": [
       "    CA1  CA2  CA3\n",
       "1     4    7    7\n",
       "2     1   10    9\n",
       "3     5    8    1\n",
       "4     1    8    2\n",
       "5     6    8    1\n",
       "6     2    5    7\n",
       "7     3   10   10\n",
       "8    10   10    2\n",
       "9     3    8    1\n",
       "10    6    1    1\n",
       "11    5    5   10\n",
       "12    4    3    5\n",
       "13    7   10    4\n",
       "14    4    3    2\n",
       "15    6    8    5\n",
       "16    4    2    8\n",
       "17    4    2   10\n",
       "18    6    8    1\n",
       "19   10    7    1\n",
       "20    6    3    9\n",
       "21    7    9    1\n",
       "22    6    3    1\n",
       "23    8    8    7\n",
       "24    1    1    9\n",
       "25    6    6   10\n",
       "26    7    5    6\n",
       "27    3    9    9\n",
       "28    2    7    4\n",
       "29    5    2    9\n",
       "30    1    3    3\n",
       "31    5    2    7\n",
       "32    4    5    4\n",
       "33    2    5    3\n",
       "34    4    5   10\n",
       "35    5    1    7\n",
       "36    7   10    3\n",
       "37   10    4    1\n",
       "38    9    9   10\n",
       "39    8    5    9\n",
       "40    7    9    1\n",
       "41    6    4    5\n",
       "42    1    3    3\n",
       "43    2    2    8\n",
       "44    2    8    3\n",
       "45    7    4    7\n",
       "46    9    1   10\n",
       "47    2   10    1\n",
       "48    9    8    8\n",
       "49   10    5    2\n",
       "50    5    3    2"
      ]
     },
     "execution_count": 5,
     "metadata": {},
     "output_type": "execute_result"
    }
   ],
   "source": [
    "cols = [ 'CA1', 'CA2', 'CA3']\n",
    "sitno = np.arange(1,51)\n",
    "np.random.seed(5)\n",
    "score = np.random.randint(1,11,150)\n",
    "score = score.reshape(50,3)\n",
    "df =pd.DataFrame(data =score, index= sitno, columns=cols)\n",
    "df"
   ]
  },
  {
   "cell_type": "code",
   "execution_count": null,
   "id": "ce1da893-a225-47af-a3d7-42223e61e577",
   "metadata": {},
   "outputs": [],
   "source": []
  }
 ],
 "metadata": {
  "kernelspec": {
   "display_name": "Python 3 (ipykernel)",
   "language": "python",
   "name": "python3"
  },
  "language_info": {
   "codemirror_mode": {
    "name": "ipython",
    "version": 3
   },
   "file_extension": ".py",
   "mimetype": "text/x-python",
   "name": "python",
   "nbconvert_exporter": "python",
   "pygments_lexer": "ipython3",
   "version": "3.12.7"
  }
 },
 "nbformat": 4,
 "nbformat_minor": 5
}
